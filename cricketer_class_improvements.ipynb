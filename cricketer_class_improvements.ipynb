{
 "cells": [
  {
   "cell_type": "markdown",
   "metadata": {},
   "source": [
    "# Cricketer class improvements\n",
    "A development area where I work out new features to build into the various classes to allow for further analysis. "
   ]
  },
  {
   "cell_type": "code",
   "execution_count": 1,
   "metadata": {},
   "outputs": [],
   "source": [
    "# Required imports\n",
    "import requests\n",
    "import pandas as pd\n",
    "from bs4 import BeautifulSoup\n",
    "import matplotlib.pyplot as plt\n",
    "\n",
    "# Import my classes\n",
    "from classes.Cricketer import Cricketer\n",
    "from classes.Innings import Innings\n",
    "from classes.Match import Match"
   ]
  },
  {
   "cell_type": "code",
   "execution_count": 2,
   "metadata": {},
   "outputs": [],
   "source": [
    "joe_root = 'http://stats.espncricinfo.com/ci/engine/player/303669.html?class=1;template=results;type=allround;view=innings'\n",
    "root = Cricketer(joe_root)"
   ]
  },
  {
   "cell_type": "code",
   "execution_count": 15,
   "metadata": {},
   "outputs": [],
   "source": [
    "root_id = '303669'\n",
    "first_25 = root.innings(True).head(25)"
   ]
  },
  {
   "cell_type": "code",
   "execution_count": 4,
   "metadata": {},
   "outputs": [],
   "source": [
    "first_innings = first_25.iloc[0]\n",
    "first_innings_obj = Match(first_innings['match_url']).select_innings(int(first_innings['inns']))"
   ]
  },
  {
   "cell_type": "code",
   "execution_count": 10,
   "metadata": {},
   "outputs": [],
   "source": [
    "first_innings_scorecard = first_innings_obj.batting()"
   ]
  },
  {
   "cell_type": "code",
   "execution_count": 17,
   "metadata": {},
   "outputs": [
    {
     "data": {
      "text/html": [
       "<div>\n",
       "<style scoped>\n",
       "    .dataframe tbody tr th:only-of-type {\n",
       "        vertical-align: middle;\n",
       "    }\n",
       "\n",
       "    .dataframe tbody tr th {\n",
       "        vertical-align: top;\n",
       "    }\n",
       "\n",
       "    .dataframe thead th {\n",
       "        text-align: right;\n",
       "    }\n",
       "</style>\n",
       "<table border=\"1\" class=\"dataframe\">\n",
       "  <thead>\n",
       "    <tr style=\"text-align: right;\">\n",
       "      <th></th>\n",
       "      <th>batsman</th>\n",
       "      <th>how_out</th>\n",
       "      <th>runs</th>\n",
       "      <th>balls_faced</th>\n",
       "      <th>minutes</th>\n",
       "      <th>fours</th>\n",
       "      <th>sixes</th>\n",
       "      <th>strike_rate</th>\n",
       "      <th>is_out</th>\n",
       "      <th>is_keeper</th>\n",
       "      <th>is_captain</th>\n",
       "      <th>player_link</th>\n",
       "      <th>player_id</th>\n",
       "    </tr>\n",
       "  </thead>\n",
       "  <tbody>\n",
       "    <tr>\n",
       "      <th>6</th>\n",
       "      <td>JE Root</td>\n",
       "      <td>c &amp; b Chawla</td>\n",
       "      <td>73</td>\n",
       "      <td>229</td>\n",
       "      <td>289</td>\n",
       "      <td>4</td>\n",
       "      <td>0</td>\n",
       "      <td>31.87</td>\n",
       "      <td>True</td>\n",
       "      <td>False</td>\n",
       "      <td>False</td>\n",
       "      <td>http://www.espncricinfo.com/ci/content/player/...</td>\n",
       "      <td>303669</td>\n",
       "    </tr>\n",
       "  </tbody>\n",
       "</table>\n",
       "</div>"
      ],
      "text/plain": [
       "   batsman       how_out runs balls_faced minutes fours sixes strike_rate  \\\n",
       "6  JE Root  c & b Chawla   73         229     289     4     0       31.87   \n",
       "\n",
       "   is_out  is_keeper  is_captain  \\\n",
       "6    True      False       False   \n",
       "\n",
       "                                         player_link player_id  \n",
       "6  http://www.espncricinfo.com/ci/content/player/...    303669  "
      ]
     },
     "execution_count": 17,
     "metadata": {},
     "output_type": "execute_result"
    }
   ],
   "source": [
    "first_innings_scorecard[first_innings_scorecard.player_id == root_id]"
   ]
  },
  {
   "cell_type": "code",
   "execution_count": 40,
   "metadata": {},
   "outputs": [],
   "source": [
    "first_sc_details = first_innings_scorecard[first_innings_scorecard.player_id == root_id]\n",
    "first_innings['balls_faced'] = int(first_sc_details['balls_faced'].item())\n",
    "first_innings['position_batted'] = first_sc_details.index.item()\n",
    "first_innings['minutes'] = first_sc_details.minutes.item()\n",
    "first_innings['fours'] = first_sc_details.fours.item()\n",
    "first_innings['sixes'] = first_sc_details.sixes.item()\n",
    "first_innings['is_captain'] = first_sc_details.is_captain.item()"
   ]
  },
  {
   "cell_type": "code",
   "execution_count": 41,
   "metadata": {},
   "outputs": [
    {
     "data": {
      "text/plain": [
       "inns                                                               1\n",
       "score                                                             73\n",
       "did_bat                                                         True\n",
       "is_out                                                          True\n",
       "overs                                                            NaN\n",
       "conc                                                             NaN\n",
       "wkts                                                             NaN\n",
       "did_bowl                                                       False\n",
       "ct                                                               NaN\n",
       "st                                                               NaN\n",
       "opposition                                                     India\n",
       "ground                                                        Nagpur\n",
       "start_date                                               13 Dec 2012\n",
       "match_id                                                      565809\n",
       "match_url          https://www.espncricinfo.com/ci/engine/match/5...\n",
       "balls_faced                                                      229\n",
       "position_batted                                                    6\n",
       "minutes                                                          289\n",
       "fours                                                              4\n",
       "sixes                                                              0\n",
       "is_captain                                                     False\n",
       "Name: 0, dtype: object"
      ]
     },
     "execution_count": 41,
     "metadata": {},
     "output_type": "execute_result"
    }
   ],
   "source": [
    "first_innings"
   ]
  },
  {
   "cell_type": "markdown",
   "metadata": {},
   "source": [
    "With this sort of extra information, we can track other things over time but we will have to start being more aware of the requests that we are doing, as these things take time and resources. "
   ]
  }
 ],
 "metadata": {
  "kernelspec": {
   "display_name": "Python 3",
   "language": "python",
   "name": "python3"
  },
  "language_info": {
   "codemirror_mode": {
    "name": "ipython",
    "version": 3
   },
   "file_extension": ".py",
   "mimetype": "text/x-python",
   "name": "python",
   "nbconvert_exporter": "python",
   "pygments_lexer": "ipython3",
   "version": "3.6.8"
  }
 },
 "nbformat": 4,
 "nbformat_minor": 2
}
