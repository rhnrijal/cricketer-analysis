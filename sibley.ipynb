{
 "cells": [
  {
   "cell_type": "markdown",
   "metadata": {},
   "source": [
    "# Dom Sibley\n",
    "I am going to look at Dom Sibley's current test record and explore the formatting of the batting innings list page that ESPN has. "
   ]
  },
  {
   "cell_type": "code",
   "execution_count": 1,
   "metadata": {},
   "outputs": [],
   "source": [
    "# Imports\n",
    "import numpy as np \n",
    "import pandas as pd \n",
    "import matplotlib.pyplot as plt\n",
    "import requests\n",
    "from bs4 import BeautifulSoup\n",
    "import re"
   ]
  },
  {
   "cell_type": "code",
   "execution_count": 2,
   "metadata": {},
   "outputs": [],
   "source": [
    "url = 'http://stats.espncricinfo.com/ci/engine/player/519082.html?class=1;template=results;type=batting;view=innings'"
   ]
  },
  {
   "cell_type": "code",
   "execution_count": 3,
   "metadata": {},
   "outputs": [],
   "source": [
    "sibley_soup = BeautifulSoup(requests.get(url).text, features=\"html.parser\")"
   ]
  },
  {
   "cell_type": "code",
   "execution_count": 4,
   "metadata": {},
   "outputs": [],
   "source": [
    "for caption in sibley_soup.find_all('caption'):\n",
    "    if caption.get_text() == 'Innings by innings list':\n",
    "        main_table = caption.find_parent(\n",
    "            'table', {'class': 'engineTable'})"
   ]
  },
  {
   "cell_type": "code",
   "execution_count": 5,
   "metadata": {},
   "outputs": [],
   "source": [
    "columns = [header.get_text() for header in main_table.find('thead').find_all('tr')[0].find_all('th')]\n",
    "rows = []\n",
    "\n",
    "for innings in [\n",
    "        row for row in main_table.find('tbody').find_all('tr')]:\n",
    "    rows.append([stat.get_text() for stat in innings.find_all('td')])\n",
    "    \n",
    "sibley_innings = pd.DataFrame(rows, columns=columns).apply(pd.to_numeric, errors='ignore')"
   ]
  },
  {
   "cell_type": "code",
   "execution_count": 6,
   "metadata": {},
   "outputs": [
    {
     "data": {
      "text/plain": [
       "729"
      ]
     },
     "execution_count": 6,
     "metadata": {},
     "output_type": "execute_result"
    }
   ],
   "source": [
    "sibley_innings.BF.sum()"
   ]
  },
  {
   "cell_type": "code",
   "execution_count": 7,
   "metadata": {},
   "outputs": [
    {
     "data": {
      "text/plain": [
       "91.125"
      ]
     },
     "execution_count": 7,
     "metadata": {},
     "output_type": "execute_result"
    }
   ],
   "source": [
    "sibley_innings.BF.mean()"
   ]
  },
  {
   "cell_type": "markdown",
   "metadata": {},
   "source": [
    "As we can see he has played just 8 innings opening the batting for England, and has already faced 729 balls. This is something that seems impressive, and Sibley has a reputation for facing a lot of balls in county championship cricket as well. "
   ]
  },
  {
   "cell_type": "code",
   "execution_count": 8,
   "metadata": {},
   "outputs": [
    {
     "data": {
      "image/png": "[encoded data removed]",
      "text/plain": [
       "<Figure size 432x288 with 1 Axes>"
      ]
     },
     "metadata": {
      "needs_background": "light"
     },
     "output_type": "display_data"
    }
   ],
   "source": [
    "sibley_innings.BF.hist(bins=100)\n",
    "plt.show()"
   ]
  },
  {
   "cell_type": "markdown",
   "metadata": {},
   "source": [
    "It is interesting with the consistency that he appears to get past 50 balls faced, giving the other players in the team a chance to come in when the opposition bowlers already having bowled many overs; providing protection to the middle order. "
   ]
  },
  {
   "cell_type": "code",
   "execution_count": 9,
   "metadata": {},
   "outputs": [],
   "source": [
    "jennings = 'http://stats.espncricinfo.com/ci/engine/player/440780.html?class=1;template=results;type=batting;view=innings'\n",
    "jennings_soup = BeautifulSoup(requests.get(jennings).text, features=\"html.parser\")"
   ]
  },
  {
   "cell_type": "code",
   "execution_count": 10,
   "metadata": {},
   "outputs": [],
   "source": [
    "for caption in jennings_soup.find_all('caption'):\n",
    "    if caption.get_text() == 'Innings by innings list':\n",
    "        jen_table = caption.find_parent(\n",
    "            'table', {'class': 'engineTable'})"
   ]
  },
  {
   "cell_type": "code",
   "execution_count": 11,
   "metadata": {},
   "outputs": [],
   "source": [
    "columns = [header.get_text() for header in jen_table.find('thead').find_all('tr')[0].find_all('th')]\n",
    "rows = []\n",
    "\n",
    "for innings in [\n",
    "        row for row in jen_table.find('tbody').find_all('tr')]:\n",
    "    rows.append([stat.get_text() for stat in innings.find_all('td')])\n",
    "    \n",
    "jenning_innings = pd.DataFrame(rows, columns=columns).apply(pd.to_numeric, errors='ignore')"
   ]
  },
  {
   "cell_type": "code",
   "execution_count": 12,
   "metadata": {},
   "outputs": [
    {
     "data": {
      "text/plain": [
       "1838"
      ]
     },
     "execution_count": 12,
     "metadata": {},
     "output_type": "execute_result"
    }
   ],
   "source": [
    "jenning_innings.BF.sum()"
   ]
  },
  {
   "cell_type": "code",
   "execution_count": 13,
   "metadata": {},
   "outputs": [
    {
     "data": {
      "text/plain": [
       "57.4375"
      ]
     },
     "execution_count": 13,
     "metadata": {},
     "output_type": "execute_result"
    }
   ],
   "source": [
    "jenning_innings.BF.mean()"
   ]
  },
  {
   "cell_type": "code",
   "execution_count": 14,
   "metadata": {},
   "outputs": [
    {
     "data": {
      "image/png": "[encoded data removed]",
      "text/plain": [
       "<Figure size 432x288 with 1 Axes>"
      ]
     },
     "metadata": {
      "needs_background": "light"
     },
     "output_type": "display_data"
    }
   ],
   "source": [
    "jenning_innings.BF.hist(bins=100)\n",
    "plt.show()"
   ]
  },
  {
   "cell_type": "markdown",
   "metadata": {},
   "source": [
    "Jennings on the other handle often caused pressure on the middle order by departing early in an innings. "
   ]
  },
  {
   "cell_type": "code",
   "execution_count": 15,
   "metadata": {},
   "outputs": [],
   "source": [
    "cook = 'http://stats.espncricinfo.com/ci/engine/player/11728.html?class=1;template=results;type=batting;view=innings'\n",
    "cook_soup = BeautifulSoup(requests.get(cook).text, features=\"html.parser\")"
   ]
  },
  {
   "cell_type": "code",
   "execution_count": 16,
   "metadata": {},
   "outputs": [],
   "source": [
    "for caption in cook_soup.find_all('caption'):\n",
    "    if caption.get_text() == 'Innings by innings list':\n",
    "        cook_table = caption.find_parent(\n",
    "            'table', {'class': 'engineTable'})"
   ]
  },
  {
   "cell_type": "code",
   "execution_count": 17,
   "metadata": {},
   "outputs": [],
   "source": [
    "columns = [header.get_text() for header in cook_table.find('thead').find_all('tr')[0].find_all('th')]\n",
    "rows = []\n",
    "\n",
    "for innings in [row for row in cook_table.find('tbody').find_all('tr')]:\n",
    "    rows.append([stat.get_text() for stat in innings.find_all('td')])\n",
    "    \n",
    "cook_innings = pd.DataFrame([x for x in rows if x[0] != 'DNB'], columns=columns).apply(pd.to_numeric, errors='ignore')"
   ]
  },
  {
   "cell_type": "code",
   "execution_count": 18,
   "metadata": {},
   "outputs": [
    {
     "data": {
      "text/plain": [
       "26562"
      ]
     },
     "execution_count": 18,
     "metadata": {},
     "output_type": "execute_result"
    }
   ],
   "source": [
    "cook_innings.BF.sum()"
   ]
  },
  {
   "cell_type": "code",
   "execution_count": 19,
   "metadata": {},
   "outputs": [
    {
     "data": {
      "text/plain": [
       "91.27835051546391"
      ]
     },
     "execution_count": 19,
     "metadata": {},
     "output_type": "execute_result"
    }
   ],
   "source": [
    "cook_innings.BF.mean()"
   ]
  },
  {
   "cell_type": "markdown",
   "metadata": {},
   "source": [
    "Everyone knows that Cook was one of England's greatest openers, if not __the__ greatest, and his average of 91 balls per innings is very impressive, and provided England a solidity throughout his reign. "
   ]
  },
  {
   "cell_type": "code",
   "execution_count": 20,
   "metadata": {},
   "outputs": [
    {
     "data": {
      "image/png": "[encoded data removed]",
      "text/plain": [
       "<Figure size 432x288 with 1 Axes>"
      ]
     },
     "metadata": {
      "needs_background": "light"
     },
     "output_type": "display_data"
    }
   ],
   "source": [
    "cook_innings.BF.hist(bins = 100)\n",
    "plt.show()"
   ]
  },
  {
   "cell_type": "markdown",
   "metadata": {},
   "source": [
    "## Comparison between the first 8 innings"
   ]
  },
  {
   "cell_type": "code",
   "execution_count": 26,
   "metadata": {},
   "outputs": [],
   "source": [
    "jennings_8 = jenning_innings.iloc[:8]\n",
    "cook_8 = cook_innings.iloc[:8]\n",
    "sib_8 = sibley_innings"
   ]
  },
  {
   "cell_type": "code",
   "execution_count": 35,
   "metadata": {},
   "outputs": [],
   "source": [
    "jennings_cumsum = jennings_8.BF.cumsum().rename('Jennings')\n",
    "cook_cumsum = cook_8.BF.cumsum().rename('Cook')\n",
    "sib_cumsum = sib_8.BF.cumsum().rename('Sibley')"
   ]
  },
  {
   "cell_type": "code",
   "execution_count": 36,
   "metadata": {},
   "outputs": [
    {
     "data": {
      "image/png": "[encoded data removed]",
      "text/plain": [
       "<Figure size 432x288 with 1 Axes>"
      ]
     },
     "metadata": {
      "needs_background": "light"
     },
     "output_type": "display_data"
    }
   ],
   "source": [
    "plt.plot(jennings_cumsum)\n",
    "plt.plot(cook_cumsum)\n",
    "plt.plot(sib_cumsum)\n",
    "plt.legend()\n",
    "plt.show()"
   ]
  },
  {
   "cell_type": "markdown",
   "metadata": {},
   "source": [
    "We can compare the early career of these 3 openers, and we see that Cook is firmly ahead. Jennings is held up by a first innings century, playing in his favoured spinning conditions.  \n",
    "\n",
    "When we do the cumulative mean, then we can see Jennings difficulties more clearly. "
   ]
  },
  {
   "cell_type": "code",
   "execution_count": 65,
   "metadata": {},
   "outputs": [
    {
     "data": {
      "image/png": "[encoded data removed]",
      "text/plain": [
       "<Figure size 432x288 with 1 Axes>"
      ]
     },
     "metadata": {
      "needs_background": "light"
     },
     "output_type": "display_data"
    }
   ],
   "source": [
    "plt.plot(jennings_8.BF.cumsum() / (np.arange(len(jennings_8)) + 1))\n",
    "plt.plot(cook_8.BF.cumsum() / (np.arange(len(cook_8)) + 1))\n",
    "plt.plot(sib_8.BF.cumsum() / (np.arange(len(sib_8)) + 1))\n",
    "plt.show()"
   ]
  }
 ],
 "metadata": {
  "kernelspec": {
   "display_name": "Python 3",
   "language": "python",
   "name": "python3"
  },
  "language_info": {
   "codemirror_mode": {
    "name": "ipython",
    "version": 3
   },
   "file_extension": ".py",
   "mimetype": "text/x-python",
   "name": "python",
   "nbconvert_exporter": "python",
   "pygments_lexer": "ipython3",
   "version": "3.6.8"
  }
 },
 "nbformat": 4,
 "nbformat_minor": 4
}
